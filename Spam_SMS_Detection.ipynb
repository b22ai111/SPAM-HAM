{
  "nbformat": 4,
  "nbformat_minor": 0,
  "metadata": {
    "colab": {
      "provenance": []
    },
    "kernelspec": {
      "name": "python3",
      "display_name": "Python 3"
    },
    "language_info": {
      "name": "python"
    }
  },
  "cells": [
    {
      "cell_type": "code",
      "source": [
        "# STEP 1: Import Libraries\n",
        "print(\" Importing libraries...\")\n",
        "import pandas as pd\n",
        "import numpy as np\n",
        "import re\n",
        "import string\n",
        "import matplotlib.pyplot as plt\n",
        "import seaborn as sns\n",
        "\n",
        "from sklearn.model_selection import train_test_split\n",
        "from sklearn.feature_extraction.text import TfidfVectorizer\n",
        "from sklearn.linear_model import LogisticRegression\n",
        "from sklearn.metrics import accuracy_score, classification_report, confusion_matrix\n",
        "\n",
        "import nltk\n",
        "nltk.download('stopwords')\n",
        "from nltk.corpus import stopwords\n",
        "\n",
        "# STEP 2: Load Dataset\n",
        "print(\" Reading dataset...\")\n",
        "df = pd.read_csv('/content/spam.csv', encoding='latin-1')[['v1', 'v2']]\n",
        "df.columns = ['label', 'message']\n",
        "df['label'] = df['label'].map({'ham': 0, 'spam': 1})\n",
        "\n",
        "# STEP 3: Preprocess Text\n",
        "def clean_text(text):\n",
        "    text = text.lower()\n",
        "    text = re.sub(r'\\d+', '', text)\n",
        "    text = text.translate(str.maketrans('', '', string.punctuation))\n",
        "    text = text.strip()\n",
        "    text = ' '.join([word for word in text.split() if word not in stopwords.words('english')])\n",
        "    return text\n",
        "\n",
        "print(\" Cleaning messages...\")\n",
        "df['cleaned_message'] = df['message'].apply(clean_text)\n",
        "\n",
        "# STEP 4: Train-Test Split\n",
        "print(\" Splitting dataset...\")\n",
        "X_train, X_test, y_train, y_test = train_test_split(\n",
        "    df['cleaned_message'], df['label'], test_size=0.2, random_state=42)\n",
        "\n",
        "# STEP 5: TF-IDF Vectorization\n",
        "print(\" Applying TF-IDF...\")\n",
        "tfidf = TfidfVectorizer(max_df=0.9)\n",
        "X_train_tfidf = tfidf.fit_transform(X_train)\n",
        "X_test_tfidf = tfidf.transform(X_test)\n",
        "\n",
        "# STEP 6: Model Training\n",
        "print(\" Training Logistic Regression model...\")\n",
        "model = LogisticRegression()\n",
        "model.fit(X_train_tfidf, y_train)\n",
        "\n",
        "# STEP 7: Evaluate Model\n",
        "print(\" Model Evaluation:\")\n",
        "y_pred = model.predict(X_test_tfidf)\n",
        "print(classification_report(y_test, y_pred, target_names=[\"Ham\", \"Spam\"]))\n",
        "print(\"Accuracy:\", accuracy_score(y_test, y_pred))\n",
        "\n",
        "# Confusion Matrix\n",
        "cm = confusion_matrix(y_test, y_pred)\n",
        "sns.heatmap(cm, annot=True, fmt='d', cmap='Blues', xticklabels=[\"Ham\", \"Spam\"], yticklabels=[\"Ham\", \"Spam\"])\n",
        "plt.title('Confusion Matrix')\n",
        "plt.xlabel('Predicted')\n",
        "plt.ylabel('Actual')\n",
        "plt.show()\n",
        "\n",
        "# STEP 8: Test with Custom Examples\n",
        "print(\"\\n Testing with Custom Examples:\")\n",
        "\n",
        "def predict_example(example_text):\n",
        "    cleaned = clean_text(example_text)\n",
        "    vectorized = tfidf.transform([cleaned])\n",
        "    prediction = model.predict(vectorized)[0]\n",
        "    label = 'Spam' if prediction == 1 else 'Ham'\n",
        "    print(f\"Message: \\\"{example_text}\\\" → Prediction: 📩 {label}\")\n",
        "\n",
        "# Try these examples\n",
        "examples = [\n",
        "    \"Congratulations! You've won a $1000 Walmart gift card. Click here to claim now.\",\n",
        "    \"Hey, are we still meeting at 7pm tonight?\",\n",
        "    \"URGENT! Your mobile number has won £2000 cash prize. Call 09050000460 now.\",\n",
        "    \"Don't forget to bring the documents for tomorrow's meeting.\",\n",
        "    \"You have been selected for a free cruise. Text YES to 54321!\"\n",
        "]\n",
        "\n",
        "for ex in examples:\n",
        "    predict_example(ex)\n",
        "\n",
        "# STEP 9: Summary\n",
        "print(\"\\n Final Output Achieved:\")\n",
        "print(\"→ Clean text preprocessing.\")\n",
        "print(\"→ Accurate classification using Logistic Regression.\")\n",
        "print(\"→ Custom predictions showcase model understanding.\")\n"
      ],
      "metadata": {
        "colab": {
          "base_uri": "https://localhost:8080/",
          "height": 1000
        },
        "id": "cNsksdOAguGy",
        "outputId": "a2159b1b-2609-479b-aa74-6917b6613350"
      },
      "execution_count": 20,
      "outputs": [
        {
          "output_type": "stream",
          "name": "stdout",
          "text": [
            " Importing libraries...\n",
            " Reading dataset...\n",
            " Cleaning messages...\n"
          ]
        },
        {
          "output_type": "stream",
          "name": "stderr",
          "text": [
            "[nltk_data] Downloading package stopwords to /root/nltk_data...\n",
            "[nltk_data]   Package stopwords is already up-to-date!\n"
          ]
        },
        {
          "output_type": "stream",
          "name": "stdout",
          "text": [
            " Splitting dataset...\n",
            " Applying TF-IDF...\n",
            " Training Logistic Regression model...\n",
            " Model Evaluation:\n",
            "              precision    recall  f1-score   support\n",
            "\n",
            "         Ham       0.95      1.00      0.97       965\n",
            "        Spam       0.96      0.66      0.78       150\n",
            "\n",
            "    accuracy                           0.95      1115\n",
            "   macro avg       0.96      0.83      0.88      1115\n",
            "weighted avg       0.95      0.95      0.95      1115\n",
            "\n",
            "Accuracy: 0.9506726457399103\n"
          ]
        },
        {
          "output_type": "display_data",
          "data": {
            "text/plain": [
              "<Figure size 640x480 with 2 Axes>"
            ],
            "image/png": "[encoded data removed]"
          },
          "metadata": {}
        },
        {
          "output_type": "stream",
          "name": "stdout",
          "text": [
            "\n",
            " Testing with Custom Examples:\n",
            "Message: \"Congratulations! You've won a $1000 Walmart gift card. Click here to claim now.\" → Prediction: 📩 Ham\n",
            "Message: \"Hey, are we still meeting at 7pm tonight?\" → Prediction: 📩 Ham\n",
            "Message: \"URGENT! Your mobile number has won £2000 cash prize. Call 09050000460 now.\" → Prediction: 📩 Spam\n",
            "Message: \"Don't forget to bring the documents for tomorrow's meeting.\" → Prediction: 📩 Ham\n",
            "Message: \"You have been selected for a free cruise. Text YES to 54321!\" → Prediction: 📩 Spam\n",
            "\n",
            " Final Output Achieved:\n",
            "→ Clean text preprocessing.\n",
            "→ Accurate classification using Logistic Regression.\n",
            "→ Custom predictions showcase model understanding.\n"
          ]
        }
      ]
    },
    {
      "cell_type": "code",
      "source": [],
      "metadata": {
        "id": "c7OatT3FnlP0"
      },
      "execution_count": null,
      "outputs": []
    }
  ]
}